{
 "cells": [
  {
   "cell_type": "markdown",
   "metadata": {},
   "source": [
    "# Analyzing the Stroop Effect\n",
    "> By Soumia Zohra El Mestari \n",
    "\n",
    "## Overview : \n",
    "\n",
    "\n",
    "In this project, We will investigate a classic phenomenon from experimental psychology called the Stroop Effect. We  will first  learn a little bit about the experiment, create a hypothesis regarding the outcome of the task, then go through the task . We  will then look at some data collected from others who have performed the same task and will compute some statistics describing the results. Finally, We  will interpret the results in terms of our hypotheses.\n",
    "\n",
    "(1) What is the independent variable? What is the dependent variable?"
   ]
  },
  {
   "cell_type": "markdown",
   "metadata": {},
   "source": [
    ">**Answer:** <br>\n",
    "independent variable: congruent or incongruent condition.\n",
    "<br>\n",
    "dependent variable: time to complete test."
   ]
  },
  {
   "cell_type": "markdown",
   "metadata": {},
   "source": [
    "(2) What is an appropriate set of hypotheses for this task? Specify your null and alternative hypotheses, and clearly define any notation used. Justify your choices."
   ]
  },
  {
   "cell_type": "markdown",
   "metadata": {},
   "source": [
    "> **Answer:**<br>\n",
    "$H_{0}$ : there is no difference(change)in time between two reading tasks (congruent or incongruent)\n",
    "<br>\n",
    "$H_{1}$ : there is a difference in time between the congruent reading and the incongruent reading<br>\n",
    "$H_{0}$ : µc = µi<br> \n",
    "$H_{1}$ : µc ≠ µi <br> \n",
    "where :µc : mean of time spent to complete the test by the congruent group <br>\n",
    "µi : mean of time spent to complete the test by the incongruent group <br>"
   ]
  },
  {
   "cell_type": "markdown",
   "metadata": {},
   "source": [
    "(3) Report some descriptive statistics regarding this dataset. Include at least one measure of central tendency and at least one measure of variability. The name of the data file is 'stroopdata.csv'."
   ]
  },
  {
   "cell_type": "code",
   "execution_count": 1,
   "metadata": {
    "collapsed": true
   },
   "outputs": [],
   "source": [
    "# import the necessary libraries \n",
    "import pandas as pd\n",
    "import numpy as np\n",
    "import seaborn as sns\n",
    "import scipy.stats as stats\n",
    "%matplotlib inline"
   ]
  },
  {
   "cell_type": "code",
   "execution_count": 2,
   "metadata": {
    "scrolled": true
   },
   "outputs": [
    {
     "data": {
      "text/html": [
       "<div>\n",
       "<style>\n",
       "    .dataframe thead tr:only-child th {\n",
       "        text-align: right;\n",
       "    }\n",
       "\n",
       "    .dataframe thead th {\n",
       "        text-align: left;\n",
       "    }\n",
       "\n",
       "    .dataframe tbody tr th {\n",
       "        vertical-align: top;\n",
       "    }\n",
       "</style>\n",
       "<table border=\"1\" class=\"dataframe\">\n",
       "  <thead>\n",
       "    <tr style=\"text-align: right;\">\n",
       "      <th></th>\n",
       "      <th>Congruent</th>\n",
       "      <th>Incongruent</th>\n",
       "    </tr>\n",
       "  </thead>\n",
       "  <tbody>\n",
       "    <tr>\n",
       "      <th>0</th>\n",
       "      <td>12.079</td>\n",
       "      <td>19.278</td>\n",
       "    </tr>\n",
       "    <tr>\n",
       "      <th>1</th>\n",
       "      <td>16.791</td>\n",
       "      <td>18.741</td>\n",
       "    </tr>\n",
       "    <tr>\n",
       "      <th>2</th>\n",
       "      <td>9.564</td>\n",
       "      <td>21.214</td>\n",
       "    </tr>\n",
       "    <tr>\n",
       "      <th>3</th>\n",
       "      <td>8.630</td>\n",
       "      <td>15.687</td>\n",
       "    </tr>\n",
       "    <tr>\n",
       "      <th>4</th>\n",
       "      <td>14.669</td>\n",
       "      <td>22.803</td>\n",
       "    </tr>\n",
       "  </tbody>\n",
       "</table>\n",
       "</div>"
      ],
      "text/plain": [
       "   Congruent  Incongruent\n",
       "0     12.079       19.278\n",
       "1     16.791       18.741\n",
       "2      9.564       21.214\n",
       "3      8.630       15.687\n",
       "4     14.669       22.803"
      ]
     },
     "execution_count": 2,
     "metadata": {},
     "output_type": "execute_result"
    }
   ],
   "source": [
    "#Analysis \n",
    "#1 load the data \n",
    "df = pd.read_csv('stroopdata.csv')\n",
    "df.head()\n",
    "\n"
   ]
  },
  {
   "cell_type": "code",
   "execution_count": 30,
   "metadata": {},
   "outputs": [
    {
     "name": "stdout",
     "output_type": "stream",
     "text": [
      "Measures of central tendency \n",
      "the median of congruent readings = 14.3565\n",
      "the mean of Congruent readings = 14.051124999999999 \n",
      " \n",
      "the median of the incongruent readings = 21.0175\n",
      "the mean of Incongruent readings = 22.015916666666666\n"
     ]
    }
   ],
   "source": [
    "print(\"Measures of central tendency \")\n",
    "con_median = df['Congruent'].median()\n",
    "con_mean = df['Congruent'].mean()\n",
    "print('the median of congruent readings = {}'.format(con_median))\n",
    "print('the mean of Congruent readings = {} \\n '.format(con_mean))\n",
    "incon_median = df['Incongruent'].median()\n",
    "incon_mean = df['Incongruent'].mean()\n",
    "print('the median of the incongruent readings = {}'.format(incon_median))\n",
    "print('the mean of Incongruent readings = {}'.format(incon_mean))"
   ]
  },
  {
   "cell_type": "code",
   "execution_count": 31,
   "metadata": {},
   "outputs": [
    {
     "name": "stdout",
     "output_type": "stream",
     "text": [
      "Measures of variability \n",
      "IQR  of Congruent readings = 4.3054999999999986\n",
      "standard deviation of Congruent readings = 3.5593579576451955 \n",
      " \n",
      "IQR  of incongruent readings = 5.33475\n",
      "standard deviation of Incongruent readings = 4.797057122469138\n"
     ]
    }
   ],
   "source": [
    "print(\"Measures of variability \")\n",
    "con_std = df['Congruent'].std()\n",
    "con_Q1 = df['Congruent'].quantile(0.25)\n",
    "con_Q3 = df['Congruent'].quantile(0.75)\n",
    "con_IQR = con_Q3 - con_Q1\n",
    "print('IQR  of Congruent readings = {}'.format(con_IQR))\n",
    "print('standard deviation of Congruent readings = {} \\n '.format(con_std))\n",
    "incon_Q1 = df['Incongruent'].quantile(0.25)\n",
    "incon_Q3 = df['Incongruent'].quantile(0.75)\n",
    "incon_IQR = incon_Q3 - incon_Q1\n",
    "incon_std = df['Incongruent'].std()\n",
    "print('IQR  of incongruent readings = {}'.format(incon_IQR))\n",
    "print('standard deviation of Incongruent readings = {}'.format(incon_std))"
   ]
  },
  {
   "cell_type": "markdown",
   "metadata": {},
   "source": [
    "(4) Provide one or two visualizations that show the distribution of the sample data. Write one or two sentences noting what you observe about the plot or plots."
   ]
  },
  {
   "cell_type": "code",
   "execution_count": 32,
   "metadata": {
    "scrolled": false
   },
   "outputs": [
    {
     "data": {
      "image/png": "[encoded data removed]",
      "text/plain": [
       "<matplotlib.figure.Figure at 0x7faf99d2e9e8>"
      ]
     },
     "metadata": {
      "needs_background": "light"
     },
     "output_type": "display_data"
    }
   ],
   "source": [
    "sns.boxplot(x=df['Congruent']);\n"
   ]
  },
  {
   "cell_type": "markdown",
   "metadata": {},
   "source": [
    " >From the box plot we notice that the middle of the data is a little bit less than 15 and there are no outliers "
   ]
  },
  {
   "cell_type": "code",
   "execution_count": 33,
   "metadata": {},
   "outputs": [
    {
     "data": {
      "image/png": "[encoded data removed]",
      "text/plain": [
       "<matplotlib.figure.Figure at 0x7faf99cc9f98>"
      ]
     },
     "metadata": {
      "needs_background": "light"
     },
     "output_type": "display_data"
    }
   ],
   "source": [
    "sns.distplot(df['Congruent']);"
   ]
  },
  {
   "cell_type": "markdown",
   "metadata": {},
   "source": [
    "> From the histogram The Congruent distribution is not normal."
   ]
  },
  {
   "cell_type": "code",
   "execution_count": 24,
   "metadata": {
    "scrolled": true
   },
   "outputs": [
    {
     "data": {
      "image/png": "[encoded data removed]",
      "text/plain": [
       "<matplotlib.figure.Figure at 0x7faf99e07dd8>"
      ]
     },
     "metadata": {
      "needs_background": "light"
     },
     "output_type": "display_data"
    }
   ],
   "source": [
    "sns.boxplot(x=df['Incongruent']);"
   ]
  },
  {
   "cell_type": "markdown",
   "metadata": {},
   "source": [
    "> From the Box plot we can see that we have two outliers "
   ]
  },
  {
   "cell_type": "code",
   "execution_count": 19,
   "metadata": {
    "scrolled": true
   },
   "outputs": [
    {
     "data": {
      "image/png": "[encoded data removed]",
      "text/plain": [
       "<matplotlib.figure.Figure at 0x7faf99fba198>"
      ]
     },
     "metadata": {
      "needs_background": "light"
     },
     "output_type": "display_data"
    }
   ],
   "source": [
    "sns.distplot(df['Incongruent']);"
   ]
  },
  {
   "cell_type": "markdown",
   "metadata": {},
   "source": [
    "> We can See from the above histogram that our Incogruent distribution tends slightly to be right skewed"
   ]
  },
  {
   "cell_type": "markdown",
   "metadata": {},
   "source": [
    "(5)  Now, perform the statistical test and report your results. What is your confidence level or Type I error associated with your test? What is your conclusion regarding the hypotheses you set up? Did the results match up with your expectations?"
   ]
  },
  {
   "cell_type": "markdown",
   "metadata": {},
   "source": [
    "> Type of the test : a two tailed T-test "
   ]
  },
  {
   "cell_type": "code",
   "execution_count": 4,
   "metadata": {},
   "outputs": [
    {
     "name": "stdout",
     "output_type": "stream",
     "text": [
      "T-test result with alpha = 0.05 so we have 95% confidence \n"
     ]
    },
    {
     "data": {
      "text/plain": [
       "Ttest_relResult(statistic=8.020706944109957, pvalue=4.1030005857111781e-08)"
      ]
     },
     "execution_count": 4,
     "metadata": {},
     "output_type": "execute_result"
    }
   ],
   "source": [
    "print(\"T-test result with alpha = 0.05 so we have 95% confidence \")\n",
    "stats. ttest_rel(df['Incongruent'],df['Congruent'])"
   ]
  },
  {
   "cell_type": "markdown",
   "metadata": {},
   "source": [
    "> with we have p-value more than α  ( p-value = 4.59 > α = 0.05 ) => which means that we have evidence that our difference came from a different distribution other than the null => we fail to reject $H_{0}$ <br> \n",
    "Yes the measures match up with my excpectations as people tend to  name colours at the same speed when the word’s meaning and its colour match, as when they do not match."
   ]
  },
  {
   "cell_type": "markdown",
   "metadata": {},
   "source": [
    "(6) Optional: What do you think is responsible for the effects observed? Can you think of an alternative or similar task that would result in a similar effect? Some research about the problem will be helpful for thinking about these two questions!"
   ]
  },
  {
   "cell_type": "markdown",
   "metadata": {},
   "source": [
    "**Answer:** <br>\n",
    "The humain brain has an association image/meaning So when the meaning and the displayed word match this association is rapidly solved => less time , however when there is a mismatch the prefrontal cortex needs more time to resolve this case and decide whether it's the ink colour which  matters or the meaning of the word.<br>\n",
    "To minimize the image/meaning association effect we can chose To display words other than colour names however the brain tends always to link what is seen with the previous experiences of the person , So there will be an additional delay but it won't be as large as it is with the colours names.\n"
   ]
  }
 ],
 "metadata": {
  "kernelspec": {
   "display_name": "Python 3",
   "language": "python",
   "name": "python3"
  },
  "language_info": {
   "codemirror_mode": {
    "name": "ipython",
    "version": 3
   },
   "file_extension": ".py",
   "mimetype": "text/x-python",
   "name": "python",
   "nbconvert_exporter": "python",
   "pygments_lexer": "ipython3",
   "version": "3.6.1"
  }
 },
 "nbformat": 4,
 "nbformat_minor": 2
}
